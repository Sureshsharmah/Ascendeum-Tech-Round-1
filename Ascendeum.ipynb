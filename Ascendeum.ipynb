{
 "cells": [
  {
   "cell_type": "markdown",
   "id": "be48bdc5-c1c0-4ee3-a5c8-4c3524b05e67",
   "metadata": {},
   "source": [
    "# Matrix Manipution"
   ]
  },
  {
   "cell_type": "code",
   "execution_count": 17,
   "id": "4ddcb690-8426-4975-b19f-e58c6e138564",
   "metadata": {},
   "outputs": [
    {
     "name": "stdout",
     "output_type": "stream",
     "text": [
      "[1, 2, 3, 4, 5, 6]\n",
      "[20, 21, 22, 23, 24, 7]\n",
      "[19, 32, 33, 34, 25, 8]\n",
      "[18, 31, 36, 35, 26, 9]\n",
      "[17, 30, 29, 28, 27, 10]\n",
      "[16, 15, 14, 13, 12, 11]\n"
     ]
    }
   ],
   "source": [
    "# Write a  function to gent+earte a square matrix of size N x N filled with integers.\n",
    "\n",
    "def generate_spiral_matrix(n):\n",
    "    matrix = [[0] * n for _ in range(n)]\n",
    "\n",
    "    top, bottom = 0, n-1\n",
    "    left, right = 0, n-1\n",
    "\n",
    "    num = 1\n",
    "\n",
    "    while top <=  bottom and left <= right:\n",
    "        for i in range(left, right+1):\n",
    "            matrix[top][i] = num\n",
    "            num += 1\n",
    "        top += 1\n",
    "\n",
    "        for i in range(top, bottom + 1):\n",
    "            matrix[i][right] = num\n",
    "            num += 1\n",
    "        right -= 1\n",
    "\n",
    "        if top <= bottom:\n",
    "            for i in range(right, left -1, -1):\n",
    "                matrix[bottom][i] = num\n",
    "                num += 1\n",
    "            bottom -= 1\n",
    "\n",
    "        if left <= right:\n",
    "            for i in range(bottom, top -1, - 1):\n",
    "                matrix[i][left] = num\n",
    "                num += 1\n",
    "            left += 1\n",
    "\n",
    "    return matrix\n",
    "\n",
    "n= 6\n",
    "spiral = generate_spiral_matrix(n)\n",
    "for row in spiral:\n",
    "    print(row)        "
   ]
  },
  {
   "cell_type": "code",
   "execution_count": 18,
   "id": "4f36124b-6048-4feb-9593-737f54ac7f7c",
   "metadata": {},
   "outputs": [
    {
     "ename": "NameError",
     "evalue": "name 'madhumita' is not defined",
     "output_type": "error",
     "traceback": [
      "\u001b[31m---------------------------------------------------------------------------\u001b[39m",
      "\u001b[31mNameError\u001b[39m                                 Traceback (most recent call last)",
      "\u001b[36mCell\u001b[39m\u001b[36m \u001b[39m\u001b[32mIn[18]\u001b[39m\u001b[32m, line 1\u001b[39m\n\u001b[32m----> \u001b[39m\u001b[32m1\u001b[39m \u001b[43mmadhumita\u001b[49m\u001b[38;5;129m@ascendeum\u001b[39m.com\n",
      "\u001b[31mNameError\u001b[39m: name 'madhumita' is not defined"
     ]
    }
   ],
   "source": [
    "madhumita@ascendeum.com\n",
    "Name it: Ascendeum Tech 1"
   ]
  },
  {
   "cell_type": "code",
   "execution_count": null,
   "id": "caac5752-292e-45ae-b0b2-4a943b953ffa",
   "metadata": {},
   "outputs": [],
   "source": []
  }
 ],
 "metadata": {
  "kernelspec": {
   "display_name": "Python 3 (ipykernel)",
   "language": "python",
   "name": "python3"
  },
  "language_info": {
   "codemirror_mode": {
    "name": "ipython",
    "version": 3
   },
   "file_extension": ".py",
   "mimetype": "text/x-python",
   "name": "python",
   "nbconvert_exporter": "python",
   "pygments_lexer": "ipython3",
   "version": "3.12.7"
  }
 },
 "nbformat": 4,
 "nbformat_minor": 5
}
